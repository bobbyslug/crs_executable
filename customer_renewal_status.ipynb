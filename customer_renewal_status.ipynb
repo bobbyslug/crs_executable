{
 "cells": [
  {
   "cell_type": "code",
   "execution_count": 48,
   "metadata": {
    "slideshow": {
     "slide_type": "skip"
    }
   },
   "outputs": [],
   "source": [
    "import pandas as pd\n",
    "import PySimpleGUI as sg\n",
    "import os.path\n",
    "import pandas as pd\n",
    "\n",
    "#set the theme for the screen/window\n",
    "sg.theme(\"Topanga\")\n",
    "\n",
    "# file selection layout\n",
    "file_list_column = [\n",
    "    [\n",
    "        sg.Text(\"2020 Data Source\"),\n",
    "        sg.In(size=(25,1), enable_events=True, key=\"-FILE-\"),\n",
    "        sg.FileBrowse(file_types=((\"CSV Files\", \"*.csv\"),)),\n",
    "    ],\n",
    "    [\n",
    "        sg.Text(\"2021 Data Source\"),\n",
    "        sg.In(size=(25,1), enable_events=True, key=\"-FILE1-\"),\n",
    "        sg.FileBrowse(file_types=((\"CSV Files\", \"*.csv\"),)),\n",
    "    ],\n",
    "    [\n",
    "        sg.Text(\"YTD Month\"),\n",
    "        sg.In(size=(25,1), enable_events=True, key=\"month\"),\n",
    "    ],\n",
    "    [\n",
    "        sg.Button(\"Convert\", enable_events=True, key=\"convert\"),\n",
    "    ],\n",
    "    [\n",
    "        sg.ProgressBar(1, orientation='h', size=(20, 20), bar_color=('Green','Gray'), key='progress_0')\n",
    "    ],\n",
    "    [\n",
    "        sg.ProgressBar(1, orientation='h', size=(20, 20), bar_color=('Green','Gray'), key='progress_1')\n",
    "    ],\n",
    "    [\n",
    "        sg.Listbox(\n",
    "        values=[], enable_events=True, size=(50,5),\n",
    "        key=\"-FILE LIST-\"\n",
    "        )\n",
    "    ],\n",
    "]\n",
    "\n",
    "layout = [\n",
    "    [\n",
    "        sg.Column(file_list_column),\n",
    "    ]\n",
    "]\n",
    "\n",
    "window = sg.Window(\"File Selector\", layout) \n",
    "progress_2020 = window['progress_0']\n",
    "progress_2021 = window['progress_1']"
   ]
  },
  {
   "cell_type": "code",
   "execution_count": 2,
   "metadata": {},
   "outputs": [],
   "source": [
    "# functions needed for program to run\n",
    "\n",
    "def clean_csv(file_name,to_csv,ytd_months):\n",
    "    '''formats invoice file by removing excess data and changing\n",
    "    data types as needed\n",
    "    Args:\n",
    "        file_name(str): the file containing customer data\n",
    "        to_csv(bool): export the file to csv\n",
    "        \n",
    "    Returns: \n",
    "        df_cust(pd.DataFrame): the cleaned dataframe\n",
    "    '''\n",
    "    # import data from csv\n",
    "    df_cust = pd.read_csv(file_name,thousands=',',index_col=False)\n",
    "    \n",
    "    # drop rows until product # begins with 'w'\n",
    "    df_cust = df_cust.loc[df_cust['Product #'].str.startswith('W', na=False)]\n",
    "\n",
    "    # convert revenue string to int\n",
    "    df_cust['Invoiced Revenue Corp'] = df_cust['Invoiced Revenue Corp'].str.replace('$','')\n",
    "    df_cust['Invoiced Revenue Corp'] = df_cust['Invoiced Revenue Corp'].str.replace(',','').fillna(0).astype('int')\n",
    "\n",
    "    # remove rows with 0 values\n",
    "    df_cust = df_cust[df_cust['Invoiced Revenue Corp'] != 0].reset_index()\n",
    "\n",
    "    month_tup = ('None','Jan','Feb','Mar','Apr','May','June','July','Aug','Sep','Oct','Nov','Dec')\n",
    "\n",
    "    # convert dates to month number \n",
    "    dates_series = df_cust['Month Number'].str.partition('/')[2].fillna(0) # use month number instead of date\n",
    "    \n",
    "    # add column containing month numbers\n",
    "    df_cust['Month'] = dates_series.astype(int)\n",
    "    \n",
    "    # autofill: for each empty month, fill with value from previous row\n",
    "    for idx, row in df_cust.iterrows():\n",
    "        if idx == 0:\n",
    "            continue\n",
    "        if row['Month'] == 0:\n",
    "            df_cust.loc[idx,'Month'] = df_cust.loc[idx - 1,'Month']\n",
    "    \n",
    "    df_na_bool = pd.isna(df_cust)\n",
    "\n",
    "    # autofill: customer name, year number, month number\n",
    "    for idx, row in df_na_bool.iterrows():\n",
    "        if idx == 0:\n",
    "            continue\n",
    "        if row['Customer Name']:\n",
    "            df_cust.loc[idx,'Customer Name'] = df_cust.loc[idx - 1,'Customer Name']\n",
    "        if row['Year Number']:\n",
    "            df_cust.loc[idx,'Year Number'] = df_cust.loc[idx - 1,'Year Number']        \n",
    "        if row['Month Number']:\n",
    "            df_cust.loc[idx,'Month Number'] = df_cust.loc[idx - 1,'Month Number']\n",
    "            \n",
    "    # convert numbers to month names\n",
    "    for i in range(len(df_cust['Month Number'])):\n",
    "        dates_series[i] = month_tup[int(dates_series[i])]\n",
    "\n",
    "    df_cust['Month Name'] = dates_series \n",
    "    \n",
    "    # ensure cust id is int type\n",
    "    df_cust['Cust Account ID'] = df_cust['Cust Account ID'].astype(int)\n",
    "\n",
    "    # remove excess columns\n",
    "    #df_cust = df_cust.drop(columns=['index','Unnamed: 4'])\n",
    "            \n",
    "    # Sort the rows of dataframe by 'Name' column\n",
    "    df_cust = df_cust.sort_values(by = 'Month',ignore_index=True)\n",
    "    # only keep ytd months\n",
    "    df_cust = df_cust[df_cust['Month'].isin(ytd_months)]\n",
    "    \n",
    "    if to_csv:\n",
    "        df_cust.to_csv('sales_renewal_status.csv',index=False)\n",
    "    \n",
    "    return df_cust\n",
    "\n",
    "# set renewal status for each customer\n",
    "renewal_status = {}\n",
    "\n",
    "def search_renew(prod_num, cust_id, prod_series, cust_series):\n",
    "    '''search for matching prod # and cust ID pair in given\n",
    "    series, iterate by index. update appearance count dict \n",
    "    renewal_status\n",
    "    Args:\n",
    "        prod_num(str)\n",
    "        cust_id(int)\n",
    "        prod_series(pd.Series)\n",
    "        cust_series(pd.Series)\n",
    "    Returns:\n",
    "        renewed(bool): whether a match was found\n",
    "    '''\n",
    "    count = 0\n",
    "    pair = prod_num + ',' + str(cust_id)\n",
    "    prev_found = renewal_status.get(pair, 0)\n",
    "    \n",
    "    # if renewal_status[key] >= count, continue \n",
    "    for i in range(prod_series.size):\n",
    "        # if a match is found\n",
    "        if prod_num == prod_series.get(i) and cust_id == cust_series.get(i):\n",
    "            # if total matches found greater than those found in this function \n",
    "            if renewal_status.get(pair, 0) > count:\n",
    "                count += 1 # ignore current match\n",
    "            else:\n",
    "                renewal_status[pair] = count + 1 # new match found, update value\n",
    "                break\n",
    "    return renewal_status.get(pair,0) > prev_found"
   ]
  },
  {
   "cell_type": "code",
   "execution_count": 3,
   "metadata": {},
   "outputs": [],
   "source": [
    "file_list = []\n",
    "invoice_2020 = ''\n",
    "invoice_2021 = ''\n",
    "month_ytd = ''\n",
    "# event loop\n",
    "while True:\n",
    "    event, values = window.read()\n",
    "    if event == \"Exit\" or event == sg.WIN_CLOSED:\n",
    "        break\n",
    "    # file was chosen, so set variables as selected files\n",
    "    if event == \"-FILE-\":\n",
    "        invoice_2020 = values[\"-FILE-\"]\n",
    "        try:\n",
    "            # show file in list \n",
    "            file_list.append(invoice_2020.split('/')[-1])\n",
    "        except:\n",
    "            file_list = []    \n",
    "        window[\"-FILE LIST-\"].update(file_list)\n",
    "    elif event == \"-FILE1-\":\n",
    "        invoice_2021 = values[\"-FILE1-\"]\n",
    "        try:\n",
    "            # show file in list \n",
    "            file_list.append(invoice_2021.split('/')[-1])\n",
    "        except:\n",
    "            file_list = []\n",
    "        window[\"-FILE LIST-\"].update(file_list)\n",
    "    elif event == \"month\":\n",
    "        month_ytd = values[\"month\"]\n",
    "    elif event == \"convert\":\n",
    "        # months which include data from current year\n",
    "        month_list = ['None','January','February','March','April','May','June','July','August','September',\n",
    "                      'October','November','December']\n",
    "        current_ytd_months = []\n",
    "\n",
    "        for idx, month in enumerate(month_list):\n",
    "            if month == month_ytd:\n",
    "                current_ytd_months.append(str(idx))\n",
    "                break\n",
    "            else:\n",
    "                current_ytd_months.append(str(idx))\n",
    "        df_2021 = clean_csv(invoice_2021,True,current_ytd_months)\n",
    "        df_2020 = clean_csv(invoice_2020,False,current_ytd_months)\n",
    "        # remove months which have not occurred\n",
    "        #df_2020 = df_2020[~df_2020['Month'].isin(['9','10','11','12'])]\n",
    "        df_renew_2020 = pd.concat([df_2020['Product #'], df_2020['Cust Account ID']],axis=1)\n",
    "        df_renew_2021 = pd.concat([df_2021['Product #'], df_2021['Cust Account ID']],axis=1)\n",
    "        df_renew = pd.concat([df_renew_2020, df_renew_2021], axis=1)\n",
    "        df_renew.columns = ['2020 Product #','2020 Cust Account ID','2021 Product #','2021 Cust Account ID']\n",
    "        df_renew['2021 Product #'] = df_renew['2021 Product #'].fillna('None')\n",
    "        df_renew['2021 Cust Account ID'] = df_renew['2021 Cust Account ID'].fillna(0).astype(int)\n",
    "        renewals = []\n",
    "        for idx, row in tqdm(df_renew.iterrows(), total=df_renew.shape[0]):\n",
    "            progress_2020.update_bar(idx,df_renew.shape[0])\n",
    "            prod_num = row['2020 Product #']\n",
    "            cust_id = row['2020 Cust Account ID']\n",
    "            prod_series = df_renew['2021 Product #']\n",
    "            cust_series = df_renew['2021 Cust Account ID']\n",
    "            if search_renew(prod_num,cust_id,prod_series,cust_series):\n",
    "                renewals.append('Renewed')\n",
    "            else:\n",
    "                renewals.append('Not Renewed')\n",
    "        if 'Renewal Status' in df_2020.columns:\n",
    "            df_2020['Renewal Status'] = renewals\n",
    "        else:\n",
    "            df_2020.insert(2,'Renewal Status',renewals,True)\n",
    "\n",
    "        df_2020 = df_2020.iloc[:, lambda df: [1,2,3,4,5,6,7,8,9,10,11,12,13]]\n",
    "\n",
    "        df_2020.to_csv('2020_renewal_data.csv',index=False)\n",
    "        renewed = []\n",
    "        for idx, row in tqdm(df_renew.iterrows(), total=df_renew.shape[0]):\n",
    "            progress_2021.update_bar(idx,df_renew.shape[0])\n",
    "            if row['2021 Cust Account ID'] == 0:\n",
    "                continue\n",
    "            prod_num = row['2021 Product #']\n",
    "            cust_id = row['2021 Cust Account ID']\n",
    "            prod_series = df_renew['2020 Product #']\n",
    "            cust_series = df_renew['2020 Cust Account ID']\n",
    "            if search_renew(prod_num,cust_id,prod_series,cust_series):\n",
    "                renewed.append('Renewed')\n",
    "            else:\n",
    "                renewed.append('New') \n",
    "        if 'Renewal Status' in df_2021.columns:\n",
    "            df_2021['Renewal Status'] = renewed\n",
    "        else:\n",
    "            df_2021.insert(2,'Renewal Status',renewed,True)\n",
    "\n",
    "        #df_2021 = df_2021.iloc[:, lambda df: [1,2,3,4,5,7,8,9,10,11,12,13,14,15,16]]\n",
    "\n",
    "        df_2021.to_csv('2021_renewal_data.csv',index=False)\n",
    "        \n",
    "window.close()"
   ]
  },
  {
   "cell_type": "markdown",
   "metadata": {},
   "source": [
    "df_2021 = clean_csv(invoice_2021,True)\n",
    "df_2020 = clean_csv(invoice_2020,False)\n",
    "# remove months which have not occurred\n",
    "df_2020 = df_2020[~df_2020['Month'].isin(['9','10','11','12'])]\n",
    "df_2020.head()"
   ]
  },
  {
   "cell_type": "markdown",
   "metadata": {
    "slideshow": {
     "slide_type": "skip"
    }
   },
   "source": []
  },
  {
   "cell_type": "markdown",
   "metadata": {
    "slideshow": {
     "slide_type": "skip"
    }
   },
   "source": [
    "# form dataframe which puts 2020 and 2021 customers side by side\n",
    "df_renew_2020 = pd.concat([df_2020['Product #'], df_2020['Cust Account ID']],axis=1)\n",
    "df_renew_2021 = pd.concat([df_2021['Product #'], df_2021['Cust Account ID']],axis=1)\n",
    "df_renew_2020.head()"
   ]
  },
  {
   "cell_type": "markdown",
   "metadata": {
    "slideshow": {
     "slide_type": "skip"
    }
   },
   "source": [
    "# set renewal status for each customer\n",
    "renewal_status = {}\n",
    "\n",
    "def search_renew(prod_num, cust_id, prod_series, cust_series):\n",
    "    '''search for matching prod # and cust ID pair in given\n",
    "    series, iterate by index. update appearance count dict \n",
    "    renewal_status\n",
    "    Args:\n",
    "        prod_num(str)\n",
    "        cust_id(int)\n",
    "        prod_series(pd.Series)\n",
    "        cust_series(pd.Series)\n",
    "    Returns:\n",
    "        renewed(bool): whether a match was found\n",
    "    '''\n",
    "    count = 0\n",
    "    pair = prod_num + ',' + str(cust_id)\n",
    "    prev_found = renewal_status.get(pair, 0)\n",
    "    \n",
    "    # if renewal_status[key] >= count, continue \n",
    "    for i in range(prod_series.size):\n",
    "        # if a match is found\n",
    "        if prod_num == prod_series.get(i) and cust_id == cust_series.get(i):\n",
    "            # if total matches found greater than those found in this function \n",
    "            if renewal_status.get(pair, 0) > count:\n",
    "                count += 1 # ignore current match\n",
    "            else:\n",
    "                renewal_status[pair] = count + 1 # new match found, update value\n",
    "                break\n",
    "    return renewal_status.get(pair,0) > prev_found"
   ]
  },
  {
   "cell_type": "markdown",
   "metadata": {
    "scrolled": true,
    "slideshow": {
     "slide_type": "slide"
    }
   },
   "source": [
    "# format df to only contain 2020 and 2021 product# and cust ID\n",
    "df_renew = pd.concat([df_renew_2020, df_renew_2021], axis=1)\n",
    "df_renew.columns = ['2020 Product #','2020 Cust Account ID','2021 Product #','2021 Cust Account ID']\n",
    "df_renew['2021 Product #'] = df_renew['2021 Product #'].fillna('None')\n",
    "df_renew['2021 Cust Account ID'] = df_renew['2021 Cust Account ID'].fillna(0).astype(int)\n",
    "df_renew.head()"
   ]
  },
  {
   "cell_type": "markdown",
   "metadata": {
    "slideshow": {
     "slide_type": "skip"
    }
   },
   "source": [
    "renewals = []\n",
    "for idx, row in tqdm(df_renew.iterrows(), total=df_renew.shape[0]):\n",
    "    prod_num = row['2020 Product #']\n",
    "    cust_id = row['2020 Cust Account ID']\n",
    "    prod_series = df_renew['2021 Product #']\n",
    "    cust_series = df_renew['2021 Cust Account ID']\n",
    "    if search_renew(prod_num,cust_id,prod_series,cust_series):\n",
    "        renewals.append('Renewed')\n",
    "    else:\n",
    "        renewals.append('Not Renewed')\n",
    "renewals"
   ]
  },
  {
   "cell_type": "markdown",
   "metadata": {
    "slideshow": {
     "slide_type": "skip"
    }
   },
   "source": [
    "'''counts_2020 = df_renew['2020 Cust Account ID'].value_counts()\n",
    "counts_2021 = df_renew['2020 Product #'].value_counts()\n",
    "print(counts_2020[10900])\n",
    "print(counts_2021['WCAM1YR10'])'''"
   ]
  },
  {
   "cell_type": "markdown",
   "metadata": {
    "scrolled": true,
    "slideshow": {
     "slide_type": "slide"
    }
   },
   "source": [
    "if 'Renewal Status' in df_2020.columns:\n",
    "    df_2020['Renewal Status'] = renewals\n",
    "else:\n",
    "    df_2020.insert(2,'Renewal Status',renewals,True)\n",
    "\n",
    "df_2020 = df_2020.iloc[:, lambda df: [1,2,3,4,5,6,7,8,9,10,11,12,13]]\n",
    "    \n",
    "df_2020.to_csv('2020_renewal_data.csv',index=False)\n",
    "df_2020.head()\n",
    "# 2020 data csv############################"
   ]
  },
  {
   "cell_type": "markdown",
   "metadata": {
    "slideshow": {
     "slide_type": "slide"
    }
   },
   "source": [
    "# show the percentage of customers who renewed \n",
    "renewal_percentage = (df_2020['Renewal Status'].value_counts(normalize=True))*100\n",
    "renewal_percentage"
   ]
  },
  {
   "cell_type": "markdown",
   "metadata": {},
   "source": [
    "# 2021: renewed/new column\n",
    "'''to add renewed column in 2021:\n",
    "    reuse matching algorithm and if match is found, renewed'''\n",
    "renewed = []\n",
    "for idx, row in tqdm(df_renew.iterrows(), total=df_renew.shape[0]):\n",
    "    if row['2021 Cust Account ID'] == 0:\n",
    "        continue\n",
    "    prod_num = row['2021 Product #']\n",
    "    cust_id = row['2021 Cust Account ID']\n",
    "    prod_series = df_renew['2020 Product #']\n",
    "    cust_series = df_renew['2020 Cust Account ID']\n",
    "    if search_renew(prod_num,cust_id,prod_series,cust_series):\n",
    "        renewed.append('Renewed')\n",
    "    else:\n",
    "        renewed.append('New') \n",
    "renewed"
   ]
  },
  {
   "cell_type": "markdown",
   "metadata": {
    "scrolled": true
   },
   "source": [
    "if 'Renewal Status' in df_2021.columns:\n",
    "    df_2021['Renewal Status'] = renewed\n",
    "else:\n",
    "    df_2021.insert(2,'Renewal Status',renewed,True)\n",
    "\n",
    "df_2021 = df_2021.iloc[:, lambda df: [1,2,3,4,5,7,8,9,10,11,12,13,14,15,16]]\n",
    "\n",
    "df_2021.to_csv('2021_renewal_data.csv',index=False)\n",
    "df_2021.head()"
   ]
  }
 ],
 "metadata": {
  "celltoolbar": "Slideshow",
  "kernelspec": {
   "display_name": "Python 3",
   "language": "python",
   "name": "python3"
  },
  "language_info": {
   "codemirror_mode": {
    "name": "ipython",
    "version": 3
   },
   "file_extension": ".py",
   "mimetype": "text/x-python",
   "name": "python",
   "nbconvert_exporter": "python",
   "pygments_lexer": "ipython3",
   "version": "3.8.5"
  }
 },
 "nbformat": 4,
 "nbformat_minor": 5
}
